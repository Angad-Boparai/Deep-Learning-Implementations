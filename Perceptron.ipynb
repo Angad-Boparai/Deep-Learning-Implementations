{
 "cells": [
  {
   "cell_type": "code",
   "execution_count": 36,
   "metadata": {},
   "outputs": [],
   "source": [
    "import numpy as np\n",
    "import pandas as pd"
   ]
  },
  {
   "cell_type": "code",
   "execution_count": 37,
   "metadata": {},
   "outputs": [],
   "source": [
    "class Perceptron(object):\n",
    "    def __init__(self,no_of_inputs,learning_rate=0.01,threshold=100):\n",
    "        self.inputs=no_of_inputs\n",
    "        self.threshold=threshold\n",
    "        self.learning_rate=learning_rate\n",
    "        self.weights=np.zeros(no_of_inputs+1)\n",
    "        \n",
    "# we use add one term code for zero matrix to represent the bias terms.\n",
    "# threshold -> epochs\n",
    "# no_of_inputs -> the number of neurons in input layer i.e. the total number of input terms\n",
    "        \n",
    "    def predict(self,inputs):\n",
    "        sum=np.dot(inputs,self.weights[1:]) + self.weights[0]\n",
    "\n",
    "        if sum>0:\n",
    "            return 1\n",
    "        else:\n",
    "            return 0\n",
    "    \n",
    "#self.weights[1:] -> represents weights \n",
    "#self.weights[0:] -> represent bias terms \n",
    "\n",
    "    def train(self,training_inputs,labels):\n",
    "        for _ in np.arange(self.threshold):\n",
    "            for inputs,label in zip(training_inputs,labels):\n",
    "                prediction=self.predict(inputs)\n",
    "                \n",
    "                self.weights[1]+=(label-prediction)*self.learning_rate*inputs\n",
    "                self.weights[0]+=(label-prediction)*self.learning_rate\n",
    "                \n",
    "# the derivative term for weights comes out with the input term in product with error term and the learning rate, so we add\n",
    "# an input term for it"
   ]
  }
 ],
 "metadata": {
  "kernelspec": {
   "display_name": "Python 3",
   "language": "python",
   "name": "python3"
  },
  "language_info": {
   "codemirror_mode": {
    "name": "ipython",
    "version": 3
   },
   "file_extension": ".py",
   "mimetype": "text/x-python",
   "name": "python",
   "nbconvert_exporter": "python",
   "pygments_lexer": "ipython3",
   "version": "3.8.2"
  }
 },
 "nbformat": 4,
 "nbformat_minor": 4
}
